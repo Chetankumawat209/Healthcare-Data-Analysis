{
 "cells": [
  {
   "cell_type": "markdown",
   "id": "68a54e11-d180-4eb3-a0d0-4993451d67a6",
   "metadata": {},
   "source": [
    "# Load libraries and Data"
   ]
  },
  {
   "cell_type": "code",
   "execution_count": 2,
   "id": "46aad821-c961-45b4-a3a1-d29e32fca959",
   "metadata": {},
   "outputs": [],
   "source": [
    "import numpy as np\n",
    "import pandas as pd\n",
    "import matplotlib.pyplot as plt\n",
    "import seaborn as sns"
   ]
  },
  {
   "cell_type": "code",
   "execution_count": 3,
   "id": "a4e7c0c4-e151-4865-9ad1-05dd2cfdf081",
   "metadata": {
    "scrolled": true
   },
   "outputs": [],
   "source": [
    "df=pd.read_csv(r'C:\\Users\\cheta\\OneDrive\\Documents\\1 Python (AI_ML)\\1project dataset\\3 health_data.csv')"
   ]
  },
  {
   "cell_type": "markdown",
   "id": "3b672384-5be8-4a92-85a9-8dc91ec4235f",
   "metadata": {},
   "source": [
    "# Understand dataset"
   ]
  },
  {
   "cell_type": "code",
   "execution_count": 5,
   "id": "2777b4e9-e27f-4d67-9fae-cec22c345de9",
   "metadata": {},
   "outputs": [
    {
     "data": {
      "text/plain": [
       "(55500, 15)"
      ]
     },
     "execution_count": 5,
     "metadata": {},
     "output_type": "execute_result"
    }
   ],
   "source": [
    "df.shape"
   ]
  },
  {
   "cell_type": "code",
   "execution_count": 6,
   "id": "756ffc8f-f3ce-4085-abc1-7386351814f0",
   "metadata": {},
   "outputs": [
    {
     "data": {
      "text/plain": [
       "Name                   object\n",
       "Age                     int64\n",
       "Gender                 object\n",
       "Blood Type             object\n",
       "Medical Condition      object\n",
       "Date of Admission      object\n",
       "Doctor                 object\n",
       "Hospital               object\n",
       "Insurance Provider     object\n",
       "Billing Amount        float64\n",
       "Room Number             int64\n",
       "Admission Type         object\n",
       "Discharge Date         object\n",
       "Medication             object\n",
       "Test Results           object\n",
       "dtype: object"
      ]
     },
     "execution_count": 6,
     "metadata": {},
     "output_type": "execute_result"
    }
   ],
   "source": [
    "df.dtypes"
   ]
  },
  {
   "cell_type": "code",
   "execution_count": 7,
   "id": "2c352359-1c78-47cd-91f3-35806000c45a",
   "metadata": {},
   "outputs": [
    {
     "data": {
      "text/plain": [
       "Name                  0\n",
       "Age                   0\n",
       "Gender                0\n",
       "Blood Type            0\n",
       "Medical Condition     0\n",
       "Date of Admission     0\n",
       "Doctor                0\n",
       "Hospital              0\n",
       "Insurance Provider    0\n",
       "Billing Amount        0\n",
       "Room Number           0\n",
       "Admission Type        0\n",
       "Discharge Date        0\n",
       "Medication            0\n",
       "Test Results          0\n",
       "dtype: int64"
      ]
     },
     "execution_count": 7,
     "metadata": {},
     "output_type": "execute_result"
    }
   ],
   "source": [
    "df.isna().sum()"
   ]
  },
  {
   "cell_type": "code",
   "execution_count": 8,
   "id": "c02ff725-d264-45e7-a25a-0602fd6348ec",
   "metadata": {},
   "outputs": [
    {
     "data": {
      "text/plain": [
       "534"
      ]
     },
     "execution_count": 8,
     "metadata": {},
     "output_type": "execute_result"
    }
   ],
   "source": [
    "df.duplicated().sum()"
   ]
  },
  {
   "cell_type": "code",
   "execution_count": 9,
   "id": "feee67c9-35e6-49fa-ae49-8fd3623d833e",
   "metadata": {},
   "outputs": [
    {
     "data": {
      "text/html": [
       "<div>\n",
       "<style scoped>\n",
       "    .dataframe tbody tr th:only-of-type {\n",
       "        vertical-align: middle;\n",
       "    }\n",
       "\n",
       "    .dataframe tbody tr th {\n",
       "        vertical-align: top;\n",
       "    }\n",
       "\n",
       "    .dataframe thead th {\n",
       "        text-align: right;\n",
       "    }\n",
       "</style>\n",
       "<table border=\"1\" class=\"dataframe\">\n",
       "  <thead>\n",
       "    <tr style=\"text-align: right;\">\n",
       "      <th></th>\n",
       "      <th>Age</th>\n",
       "      <th>Billing Amount</th>\n",
       "      <th>Room Number</th>\n",
       "    </tr>\n",
       "  </thead>\n",
       "  <tbody>\n",
       "    <tr>\n",
       "      <th>count</th>\n",
       "      <td>55500.000000</td>\n",
       "      <td>55500.000000</td>\n",
       "      <td>55500.000000</td>\n",
       "    </tr>\n",
       "    <tr>\n",
       "      <th>mean</th>\n",
       "      <td>51.539459</td>\n",
       "      <td>25539.316097</td>\n",
       "      <td>301.134829</td>\n",
       "    </tr>\n",
       "    <tr>\n",
       "      <th>std</th>\n",
       "      <td>19.602454</td>\n",
       "      <td>14211.454431</td>\n",
       "      <td>115.243069</td>\n",
       "    </tr>\n",
       "    <tr>\n",
       "      <th>min</th>\n",
       "      <td>13.000000</td>\n",
       "      <td>-2008.492140</td>\n",
       "      <td>101.000000</td>\n",
       "    </tr>\n",
       "    <tr>\n",
       "      <th>25%</th>\n",
       "      <td>35.000000</td>\n",
       "      <td>13241.224652</td>\n",
       "      <td>202.000000</td>\n",
       "    </tr>\n",
       "    <tr>\n",
       "      <th>50%</th>\n",
       "      <td>52.000000</td>\n",
       "      <td>25538.069376</td>\n",
       "      <td>302.000000</td>\n",
       "    </tr>\n",
       "    <tr>\n",
       "      <th>75%</th>\n",
       "      <td>68.000000</td>\n",
       "      <td>37820.508436</td>\n",
       "      <td>401.000000</td>\n",
       "    </tr>\n",
       "    <tr>\n",
       "      <th>max</th>\n",
       "      <td>89.000000</td>\n",
       "      <td>52764.276736</td>\n",
       "      <td>500.000000</td>\n",
       "    </tr>\n",
       "  </tbody>\n",
       "</table>\n",
       "</div>"
      ],
      "text/plain": [
       "                Age  Billing Amount   Room Number\n",
       "count  55500.000000    55500.000000  55500.000000\n",
       "mean      51.539459    25539.316097    301.134829\n",
       "std       19.602454    14211.454431    115.243069\n",
       "min       13.000000    -2008.492140    101.000000\n",
       "25%       35.000000    13241.224652    202.000000\n",
       "50%       52.000000    25538.069376    302.000000\n",
       "75%       68.000000    37820.508436    401.000000\n",
       "max       89.000000    52764.276736    500.000000"
      ]
     },
     "execution_count": 9,
     "metadata": {},
     "output_type": "execute_result"
    }
   ],
   "source": [
    "df.describe()"
   ]
  },
  {
   "cell_type": "code",
   "execution_count": 10,
   "id": "d36f87fb-bfaa-4c33-a80c-94045cfab276",
   "metadata": {},
   "outputs": [
    {
     "data": {
      "text/html": [
       "<div>\n",
       "<style scoped>\n",
       "    .dataframe tbody tr th:only-of-type {\n",
       "        vertical-align: middle;\n",
       "    }\n",
       "\n",
       "    .dataframe tbody tr th {\n",
       "        vertical-align: top;\n",
       "    }\n",
       "\n",
       "    .dataframe thead th {\n",
       "        text-align: right;\n",
       "    }\n",
       "</style>\n",
       "<table border=\"1\" class=\"dataframe\">\n",
       "  <thead>\n",
       "    <tr style=\"text-align: right;\">\n",
       "      <th></th>\n",
       "      <th>Name</th>\n",
       "      <th>Age</th>\n",
       "      <th>Gender</th>\n",
       "      <th>Blood Type</th>\n",
       "      <th>Medical Condition</th>\n",
       "      <th>Date of Admission</th>\n",
       "      <th>Doctor</th>\n",
       "      <th>Hospital</th>\n",
       "      <th>Insurance Provider</th>\n",
       "      <th>Billing Amount</th>\n",
       "      <th>Room Number</th>\n",
       "      <th>Admission Type</th>\n",
       "      <th>Discharge Date</th>\n",
       "      <th>Medication</th>\n",
       "      <th>Test Results</th>\n",
       "    </tr>\n",
       "  </thead>\n",
       "  <tbody>\n",
       "    <tr>\n",
       "      <th>0</th>\n",
       "      <td>Bobby JacksOn</td>\n",
       "      <td>30</td>\n",
       "      <td>Male</td>\n",
       "      <td>B-</td>\n",
       "      <td>Cancer</td>\n",
       "      <td>2024-01-31</td>\n",
       "      <td>Matthew Smith</td>\n",
       "      <td>Sons and Miller</td>\n",
       "      <td>Blue Cross</td>\n",
       "      <td>18856.281306</td>\n",
       "      <td>328</td>\n",
       "      <td>Urgent</td>\n",
       "      <td>2024-02-02</td>\n",
       "      <td>Paracetamol</td>\n",
       "      <td>Normal</td>\n",
       "    </tr>\n",
       "    <tr>\n",
       "      <th>1</th>\n",
       "      <td>LesLie TErRy</td>\n",
       "      <td>62</td>\n",
       "      <td>Male</td>\n",
       "      <td>A+</td>\n",
       "      <td>Obesity</td>\n",
       "      <td>2019-08-20</td>\n",
       "      <td>Samantha Davies</td>\n",
       "      <td>Kim Inc</td>\n",
       "      <td>Medicare</td>\n",
       "      <td>33643.327287</td>\n",
       "      <td>265</td>\n",
       "      <td>Emergency</td>\n",
       "      <td>2019-08-26</td>\n",
       "      <td>Ibuprofen</td>\n",
       "      <td>Inconclusive</td>\n",
       "    </tr>\n",
       "    <tr>\n",
       "      <th>2</th>\n",
       "      <td>DaNnY sMitH</td>\n",
       "      <td>76</td>\n",
       "      <td>Female</td>\n",
       "      <td>A-</td>\n",
       "      <td>Obesity</td>\n",
       "      <td>2022-09-22</td>\n",
       "      <td>Tiffany Mitchell</td>\n",
       "      <td>Cook PLC</td>\n",
       "      <td>Aetna</td>\n",
       "      <td>27955.096079</td>\n",
       "      <td>205</td>\n",
       "      <td>Emergency</td>\n",
       "      <td>2022-10-07</td>\n",
       "      <td>Aspirin</td>\n",
       "      <td>Normal</td>\n",
       "    </tr>\n",
       "    <tr>\n",
       "      <th>3</th>\n",
       "      <td>andrEw waTtS</td>\n",
       "      <td>28</td>\n",
       "      <td>Female</td>\n",
       "      <td>O+</td>\n",
       "      <td>Diabetes</td>\n",
       "      <td>2020-11-18</td>\n",
       "      <td>Kevin Wells</td>\n",
       "      <td>Hernandez Rogers and Vang,</td>\n",
       "      <td>Medicare</td>\n",
       "      <td>37909.782410</td>\n",
       "      <td>450</td>\n",
       "      <td>Elective</td>\n",
       "      <td>2020-12-18</td>\n",
       "      <td>Ibuprofen</td>\n",
       "      <td>Abnormal</td>\n",
       "    </tr>\n",
       "    <tr>\n",
       "      <th>4</th>\n",
       "      <td>adrIENNE bEll</td>\n",
       "      <td>43</td>\n",
       "      <td>Female</td>\n",
       "      <td>AB+</td>\n",
       "      <td>Cancer</td>\n",
       "      <td>2022-09-19</td>\n",
       "      <td>Kathleen Hanna</td>\n",
       "      <td>White-White</td>\n",
       "      <td>Aetna</td>\n",
       "      <td>14238.317814</td>\n",
       "      <td>458</td>\n",
       "      <td>Urgent</td>\n",
       "      <td>2022-10-09</td>\n",
       "      <td>Penicillin</td>\n",
       "      <td>Abnormal</td>\n",
       "    </tr>\n",
       "    <tr>\n",
       "      <th>5</th>\n",
       "      <td>EMILY JOHNSOn</td>\n",
       "      <td>36</td>\n",
       "      <td>Male</td>\n",
       "      <td>A+</td>\n",
       "      <td>Asthma</td>\n",
       "      <td>2023-12-20</td>\n",
       "      <td>Taylor Newton</td>\n",
       "      <td>Nunez-Humphrey</td>\n",
       "      <td>UnitedHealthcare</td>\n",
       "      <td>48145.110951</td>\n",
       "      <td>389</td>\n",
       "      <td>Urgent</td>\n",
       "      <td>2023-12-24</td>\n",
       "      <td>Ibuprofen</td>\n",
       "      <td>Normal</td>\n",
       "    </tr>\n",
       "  </tbody>\n",
       "</table>\n",
       "</div>"
      ],
      "text/plain": [
       "            Name  Age  Gender Blood Type Medical Condition Date of Admission  \\\n",
       "0  Bobby JacksOn   30    Male         B-            Cancer        2024-01-31   \n",
       "1   LesLie TErRy   62    Male         A+           Obesity        2019-08-20   \n",
       "2    DaNnY sMitH   76  Female         A-           Obesity        2022-09-22   \n",
       "3   andrEw waTtS   28  Female         O+          Diabetes        2020-11-18   \n",
       "4  adrIENNE bEll   43  Female        AB+            Cancer        2022-09-19   \n",
       "5  EMILY JOHNSOn   36    Male         A+            Asthma        2023-12-20   \n",
       "\n",
       "             Doctor                    Hospital Insurance Provider  \\\n",
       "0     Matthew Smith             Sons and Miller         Blue Cross   \n",
       "1   Samantha Davies                     Kim Inc           Medicare   \n",
       "2  Tiffany Mitchell                    Cook PLC              Aetna   \n",
       "3       Kevin Wells  Hernandez Rogers and Vang,           Medicare   \n",
       "4    Kathleen Hanna                 White-White              Aetna   \n",
       "5     Taylor Newton              Nunez-Humphrey   UnitedHealthcare   \n",
       "\n",
       "   Billing Amount  Room Number Admission Type Discharge Date   Medication  \\\n",
       "0    18856.281306          328         Urgent     2024-02-02  Paracetamol   \n",
       "1    33643.327287          265      Emergency     2019-08-26    Ibuprofen   \n",
       "2    27955.096079          205      Emergency     2022-10-07      Aspirin   \n",
       "3    37909.782410          450       Elective     2020-12-18    Ibuprofen   \n",
       "4    14238.317814          458         Urgent     2022-10-09   Penicillin   \n",
       "5    48145.110951          389         Urgent     2023-12-24    Ibuprofen   \n",
       "\n",
       "   Test Results  \n",
       "0        Normal  \n",
       "1  Inconclusive  \n",
       "2        Normal  \n",
       "3      Abnormal  \n",
       "4      Abnormal  \n",
       "5        Normal  "
      ]
     },
     "execution_count": 10,
     "metadata": {},
     "output_type": "execute_result"
    }
   ],
   "source": [
    "df.head(6)"
   ]
  },
  {
   "cell_type": "markdown",
   "id": "d78e9a63-0b84-48c3-92cb-c433f5eaff83",
   "metadata": {},
   "source": [
    "# clean data"
   ]
  },
  {
   "cell_type": "code",
   "execution_count": 12,
   "id": "0bee1f58-ef69-4b5c-a75f-7a42d405666d",
   "metadata": {},
   "outputs": [],
   "source": [
    "df=df.drop_duplicates().reset_index(drop=True)"
   ]
  },
  {
   "cell_type": "code",
   "execution_count": 13,
   "id": "db1848ac-dda6-4da1-abf7-a6703ac7cee0",
   "metadata": {},
   "outputs": [],
   "source": [
    "df['Gender']=df['Gender'].astype('category')\n",
    "df['Blood Type']=df['Blood Type'].astype('category')"
   ]
  },
  {
   "cell_type": "code",
   "execution_count": 14,
   "id": "22a5c325-9599-49d0-8ba8-6cbf84689f7c",
   "metadata": {},
   "outputs": [],
   "source": [
    "df['Date of Admission']=pd.to_datetime(df['Date of Admission'])\n",
    "df['Discharge Date']=pd.to_datetime(df['Discharge Date'])"
   ]
  },
  {
   "cell_type": "code",
   "execution_count": 15,
   "id": "a57da854-6463-4449-aa66-793f116b727a",
   "metadata": {},
   "outputs": [],
   "source": [
    "df['Billing Amount']=df['Billing Amount'].astype('int')"
   ]
  },
  {
   "cell_type": "code",
   "execution_count": 16,
   "id": "710ed9b3-8a5b-476a-8061-fdd5edd1b855",
   "metadata": {},
   "outputs": [],
   "source": [
    "df['Blood Type']=df['Blood Type'].astype('category')"
   ]
  },
  {
   "cell_type": "code",
   "execution_count": null,
   "id": "5dae9bb4-7c72-4df0-882d-d253892e0986",
   "metadata": {},
   "outputs": [],
   "source": []
  },
  {
   "cell_type": "code",
   "execution_count": null,
   "id": "58f32ac3-9cd3-4f35-a682-69c20c094227",
   "metadata": {},
   "outputs": [],
   "source": []
  },
  {
   "cell_type": "markdown",
   "id": "1dd55c13-f043-45aa-b555-92c835b03693",
   "metadata": {},
   "source": [
    "# Detect outliers in Billing Amount"
   ]
  },
  {
   "cell_type": "code",
   "execution_count": 18,
   "id": "9ce3c7dd-da63-4583-94ec-28f5458b1009",
   "metadata": {},
   "outputs": [
    {
     "data": {
      "image/png": "[encoded data removed]",
      "text/plain": [
       "<Figure size 640x480 with 1 Axes>"
      ]
     },
     "metadata": {},
     "output_type": "display_data"
    }
   ],
   "source": [
    "sns.boxplot(data=df,y='Billing Amount');"
   ]
  },
  {
   "cell_type": "code",
   "execution_count": 19,
   "id": "93a5bb0d-7bf3-4b50-9e3d-1db1472383c3",
   "metadata": {},
   "outputs": [
    {
     "data": {
      "text/plain": [
       "Text(0.5, 1.0, 'Decect Outliers in Column')"
      ]
     },
     "execution_count": 19,
     "metadata": {},
     "output_type": "execute_result"
    },
    {
     "data": {
      "image/png": "[encoded data removed]",
      "text/plain": [
       "<Figure size 640x480 with 1 Axes>"
      ]
     },
     "metadata": {},
     "output_type": "display_data"
    }
   ],
   "source": [
    "sns.histplot(data=df,x='Billing Amount',kde=True);\n",
    "plt.title('Decect Outliers in Column')"
   ]
  },
  {
   "cell_type": "markdown",
   "id": "eb78acdc-4a75-4ffb-921c-68dc77f26b77",
   "metadata": {},
   "source": [
    "#### There is not have any outliers"
   ]
  },
  {
   "cell_type": "code",
   "execution_count": null,
   "id": "fc5d7c7a-d2df-4ff6-bf3a-de7306455071",
   "metadata": {},
   "outputs": [],
   "source": []
  },
  {
   "cell_type": "markdown",
   "id": "08ef3f50-d0ab-4499-a9e6-e1d1fd0c3c03",
   "metadata": {},
   "source": [
    "# Correlation for numerical features."
   ]
  },
  {
   "cell_type": "code",
   "execution_count": 22,
   "id": "b9e4eee8-e723-4515-a245-b79cd5b23937",
   "metadata": {},
   "outputs": [
    {
     "data": {
      "text/plain": [
       "<Axes: >"
      ]
     },
     "execution_count": 22,
     "metadata": {},
     "output_type": "execute_result"
    },
    {
     "data": {
      "image/png": "[encoded data removed]",
      "text/plain": [
       "<Figure size 640x480 with 2 Axes>"
      ]
     },
     "metadata": {},
     "output_type": "display_data"
    }
   ],
   "source": [
    "data=df[['Billing Amount','Age']].corr\n",
    "\n",
    "data\n",
    "sns.heatmap(df[['Billing Amount','Age','Room Number']].corr())"
   ]
  },
  {
   "cell_type": "markdown",
   "id": "842d09e3-ccfd-4646-8dd7-8e86e833b1e3",
   "metadata": {},
   "source": [
    "#### No linear correlation between numeric columns\n",
    "\n",
    "Billing Amount and Age\n",
    "\n",
    "Room Number and Age\n",
    "\n",
    "Room Number and Billing Amount"
   ]
  },
  {
   "cell_type": "code",
   "execution_count": null,
   "id": "65d60342-6fb4-492d-86fb-76f1bca66a84",
   "metadata": {},
   "outputs": [],
   "source": []
  },
  {
   "cell_type": "code",
   "execution_count": null,
   "id": "eb5f582a-8528-4e29-ad77-d09104665b4c",
   "metadata": {},
   "outputs": [],
   "source": []
  },
  {
   "cell_type": "markdown",
   "id": "e2bdade7-204c-443c-8e82-a9bda8acedfa",
   "metadata": {},
   "source": [
    "# EDA"
   ]
  },
  {
   "cell_type": "markdown",
   "id": "bee1be68-595c-4209-911e-72f66b34ce4c",
   "metadata": {},
   "source": [
    "## EDA--> Which Gender have more Disease"
   ]
  },
  {
   "cell_type": "code",
   "execution_count": 26,
   "id": "03d89e84-d22d-4987-936c-88a31e130f4a",
   "metadata": {},
   "outputs": [
    {
     "data": {
      "image/png": "[encoded data removed]",
      "text/plain": [
       "<Figure size 640x480 with 1 Axes>"
      ]
     },
     "metadata": {},
     "output_type": "display_data"
    }
   ],
   "source": [
    "sns.countplot(data=df,x='Medical Condition',hue='Gender');\n",
    "plt.title('Counts of Disease')\n",
    "plt.show()"
   ]
  },
  {
   "cell_type": "code",
   "execution_count": 27,
   "id": "c33ab399-1ecf-44d6-845e-47faa21d4a95",
   "metadata": {},
   "outputs": [
    {
     "data": {
      "text/html": [
       "<div>\n",
       "<style scoped>\n",
       "    .dataframe tbody tr th:only-of-type {\n",
       "        vertical-align: middle;\n",
       "    }\n",
       "\n",
       "    .dataframe tbody tr th {\n",
       "        vertical-align: top;\n",
       "    }\n",
       "\n",
       "    .dataframe thead th {\n",
       "        text-align: right;\n",
       "    }\n",
       "</style>\n",
       "<table border=\"1\" class=\"dataframe\">\n",
       "  <thead>\n",
       "    <tr style=\"text-align: right;\">\n",
       "      <th></th>\n",
       "      <th>Medical Condition</th>\n",
       "      <th>Gender</th>\n",
       "      <th>Count</th>\n",
       "    </tr>\n",
       "  </thead>\n",
       "  <tbody>\n",
       "    <tr>\n",
       "      <th>0</th>\n",
       "      <td>Arthritis</td>\n",
       "      <td>Female</td>\n",
       "      <td>4642</td>\n",
       "    </tr>\n",
       "    <tr>\n",
       "      <th>1</th>\n",
       "      <td>Arthritis</td>\n",
       "      <td>Male</td>\n",
       "      <td>4576</td>\n",
       "    </tr>\n",
       "    <tr>\n",
       "      <th>2</th>\n",
       "      <td>Asthma</td>\n",
       "      <td>Female</td>\n",
       "      <td>4511</td>\n",
       "    </tr>\n",
       "    <tr>\n",
       "      <th>3</th>\n",
       "      <td>Asthma</td>\n",
       "      <td>Male</td>\n",
       "      <td>4584</td>\n",
       "    </tr>\n",
       "    <tr>\n",
       "      <th>4</th>\n",
       "      <td>Cancer</td>\n",
       "      <td>Female</td>\n",
       "      <td>4566</td>\n",
       "    </tr>\n",
       "    <tr>\n",
       "      <th>5</th>\n",
       "      <td>Cancer</td>\n",
       "      <td>Male</td>\n",
       "      <td>4574</td>\n",
       "    </tr>\n",
       "    <tr>\n",
       "      <th>6</th>\n",
       "      <td>Diabetes</td>\n",
       "      <td>Female</td>\n",
       "      <td>4609</td>\n",
       "    </tr>\n",
       "    <tr>\n",
       "      <th>7</th>\n",
       "      <td>Diabetes</td>\n",
       "      <td>Male</td>\n",
       "      <td>4607</td>\n",
       "    </tr>\n",
       "    <tr>\n",
       "      <th>8</th>\n",
       "      <td>Hypertension</td>\n",
       "      <td>Female</td>\n",
       "      <td>4569</td>\n",
       "    </tr>\n",
       "    <tr>\n",
       "      <th>9</th>\n",
       "      <td>Hypertension</td>\n",
       "      <td>Male</td>\n",
       "      <td>4582</td>\n",
       "    </tr>\n",
       "    <tr>\n",
       "      <th>10</th>\n",
       "      <td>Obesity</td>\n",
       "      <td>Female</td>\n",
       "      <td>4573</td>\n",
       "    </tr>\n",
       "    <tr>\n",
       "      <th>11</th>\n",
       "      <td>Obesity</td>\n",
       "      <td>Male</td>\n",
       "      <td>4573</td>\n",
       "    </tr>\n",
       "  </tbody>\n",
       "</table>\n",
       "</div>"
      ],
      "text/plain": [
       "   Medical Condition  Gender  Count\n",
       "0          Arthritis  Female   4642\n",
       "1          Arthritis    Male   4576\n",
       "2             Asthma  Female   4511\n",
       "3             Asthma    Male   4584\n",
       "4             Cancer  Female   4566\n",
       "5             Cancer    Male   4574\n",
       "6           Diabetes  Female   4609\n",
       "7           Diabetes    Male   4607\n",
       "8       Hypertension  Female   4569\n",
       "9       Hypertension    Male   4582\n",
       "10           Obesity  Female   4573\n",
       "11           Obesity    Male   4573"
      ]
     },
     "execution_count": 27,
     "metadata": {},
     "output_type": "execute_result"
    }
   ],
   "source": [
    "Medical_by_Gender=df.groupby(['Medical Condition','Gender'],observed=True).size().reset_index(name='Count')\n",
    "Medical_by_Gender"
   ]
  },
  {
   "cell_type": "code",
   "execution_count": 28,
   "id": "fa33d1c4-a957-4ae2-9452-711714b0cc5e",
   "metadata": {},
   "outputs": [
    {
     "data": {
      "text/plain": [
       "9095"
      ]
     },
     "execution_count": 28,
     "metadata": {},
     "output_type": "execute_result"
    }
   ],
   "source": [
    "(df['Medical Condition']=='Asthma').sum()"
   ]
  },
  {
   "cell_type": "code",
   "execution_count": 29,
   "id": "47a096c9-c9b3-4d22-91ac-31f173f6673d",
   "metadata": {},
   "outputs": [
    {
     "name": "stdout",
     "output_type": "stream",
     "text": [
      "27470\n",
      "27496\n"
     ]
    }
   ],
   "source": [
    "print((df['Gender']=='Female').sum())\n",
    "print((df['Gender']=='Male').sum())"
   ]
  },
  {
   "cell_type": "markdown",
   "id": "43f927ae-289e-48ae-b511-4c64036e8cea",
   "metadata": {},
   "source": [
    "#### Here is almost same numbers of diseases in gender category but Arthritis was most common"
   ]
  },
  {
   "cell_type": "code",
   "execution_count": null,
   "id": "40aa6d95-e209-40e3-8e1a-a70f71441430",
   "metadata": {},
   "outputs": [],
   "source": []
  },
  {
   "cell_type": "code",
   "execution_count": null,
   "id": "079e402f-099e-4586-8689-db2b0e632ac5",
   "metadata": {},
   "outputs": [],
   "source": []
  },
  {
   "cell_type": "markdown",
   "id": "892732a7-34ef-467e-95ba-efc79f6d679a",
   "metadata": {},
   "source": [
    "## EDA-->I create a column called Age_range to find which age group have more diseases"
   ]
  },
  {
   "cell_type": "code",
   "execution_count": 32,
   "id": "3f810d5d-796f-4a48-8d38-580f96cc02db",
   "metadata": {},
   "outputs": [
    {
     "data": {
      "text/plain": [
       "89"
      ]
     },
     "execution_count": 32,
     "metadata": {},
     "output_type": "execute_result"
    }
   ],
   "source": [
    "df['Age'].max()"
   ]
  },
  {
   "cell_type": "code",
   "execution_count": 33,
   "id": "58d70f61-5c7a-4087-9442-be240ec9b183",
   "metadata": {},
   "outputs": [],
   "source": [
    "bins=[0,18,35,50,65,75,90]\n",
    "lables=['0-18','19-35','36-50','51-65','65-75','76+']\n",
    "rng=pd.cut(df['Age'],labels=lables,bins=bins)\n",
    "# print(rng)\n",
    "df.insert(2,value=rng,column='Age range')"
   ]
  },
  {
   "cell_type": "code",
   "execution_count": 34,
   "id": "8e0eda48-741f-468d-ad4f-d552fd908aa1",
   "metadata": {},
   "outputs": [
    {
     "data": {
      "text/plain": [
       "array(['Urgent', 'Emergency', 'Elective'], dtype=object)"
      ]
     },
     "execution_count": 34,
     "metadata": {},
     "output_type": "execute_result"
    }
   ],
   "source": [
    "df['Admission Type'].unique()"
   ]
  },
  {
   "cell_type": "code",
   "execution_count": 35,
   "id": "d414b471-02aa-40ce-b07c-63e1a875d50e",
   "metadata": {},
   "outputs": [
    {
     "data": {
      "text/html": [
       "<div>\n",
       "<style scoped>\n",
       "    .dataframe tbody tr th:only-of-type {\n",
       "        vertical-align: middle;\n",
       "    }\n",
       "\n",
       "    .dataframe tbody tr th {\n",
       "        vertical-align: top;\n",
       "    }\n",
       "\n",
       "    .dataframe thead th {\n",
       "        text-align: right;\n",
       "    }\n",
       "</style>\n",
       "<table border=\"1\" class=\"dataframe\">\n",
       "  <thead>\n",
       "    <tr style=\"text-align: right;\">\n",
       "      <th></th>\n",
       "      <th>Name</th>\n",
       "      <th>Age</th>\n",
       "      <th>Age range</th>\n",
       "      <th>Gender</th>\n",
       "      <th>Blood Type</th>\n",
       "      <th>Medical Condition</th>\n",
       "      <th>Date of Admission</th>\n",
       "      <th>Doctor</th>\n",
       "      <th>Hospital</th>\n",
       "      <th>Insurance Provider</th>\n",
       "      <th>Billing Amount</th>\n",
       "      <th>Room Number</th>\n",
       "      <th>Admission Type</th>\n",
       "      <th>Discharge Date</th>\n",
       "      <th>Medication</th>\n",
       "      <th>Test Results</th>\n",
       "    </tr>\n",
       "  </thead>\n",
       "  <tbody>\n",
       "    <tr>\n",
       "      <th>0</th>\n",
       "      <td>Bobby JacksOn</td>\n",
       "      <td>30</td>\n",
       "      <td>19-35</td>\n",
       "      <td>Male</td>\n",
       "      <td>B-</td>\n",
       "      <td>Cancer</td>\n",
       "      <td>2024-01-31</td>\n",
       "      <td>Matthew Smith</td>\n",
       "      <td>Sons and Miller</td>\n",
       "      <td>Blue Cross</td>\n",
       "      <td>18856</td>\n",
       "      <td>328</td>\n",
       "      <td>Urgent</td>\n",
       "      <td>2024-02-02</td>\n",
       "      <td>Paracetamol</td>\n",
       "      <td>Normal</td>\n",
       "    </tr>\n",
       "    <tr>\n",
       "      <th>1</th>\n",
       "      <td>LesLie TErRy</td>\n",
       "      <td>62</td>\n",
       "      <td>51-65</td>\n",
       "      <td>Male</td>\n",
       "      <td>A+</td>\n",
       "      <td>Obesity</td>\n",
       "      <td>2019-08-20</td>\n",
       "      <td>Samantha Davies</td>\n",
       "      <td>Kim Inc</td>\n",
       "      <td>Medicare</td>\n",
       "      <td>33643</td>\n",
       "      <td>265</td>\n",
       "      <td>Emergency</td>\n",
       "      <td>2019-08-26</td>\n",
       "      <td>Ibuprofen</td>\n",
       "      <td>Inconclusive</td>\n",
       "    </tr>\n",
       "    <tr>\n",
       "      <th>2</th>\n",
       "      <td>DaNnY sMitH</td>\n",
       "      <td>76</td>\n",
       "      <td>76+</td>\n",
       "      <td>Female</td>\n",
       "      <td>A-</td>\n",
       "      <td>Obesity</td>\n",
       "      <td>2022-09-22</td>\n",
       "      <td>Tiffany Mitchell</td>\n",
       "      <td>Cook PLC</td>\n",
       "      <td>Aetna</td>\n",
       "      <td>27955</td>\n",
       "      <td>205</td>\n",
       "      <td>Emergency</td>\n",
       "      <td>2022-10-07</td>\n",
       "      <td>Aspirin</td>\n",
       "      <td>Normal</td>\n",
       "    </tr>\n",
       "    <tr>\n",
       "      <th>3</th>\n",
       "      <td>andrEw waTtS</td>\n",
       "      <td>28</td>\n",
       "      <td>19-35</td>\n",
       "      <td>Female</td>\n",
       "      <td>O+</td>\n",
       "      <td>Diabetes</td>\n",
       "      <td>2020-11-18</td>\n",
       "      <td>Kevin Wells</td>\n",
       "      <td>Hernandez Rogers and Vang,</td>\n",
       "      <td>Medicare</td>\n",
       "      <td>37909</td>\n",
       "      <td>450</td>\n",
       "      <td>Elective</td>\n",
       "      <td>2020-12-18</td>\n",
       "      <td>Ibuprofen</td>\n",
       "      <td>Abnormal</td>\n",
       "    </tr>\n",
       "    <tr>\n",
       "      <th>4</th>\n",
       "      <td>adrIENNE bEll</td>\n",
       "      <td>43</td>\n",
       "      <td>36-50</td>\n",
       "      <td>Female</td>\n",
       "      <td>AB+</td>\n",
       "      <td>Cancer</td>\n",
       "      <td>2022-09-19</td>\n",
       "      <td>Kathleen Hanna</td>\n",
       "      <td>White-White</td>\n",
       "      <td>Aetna</td>\n",
       "      <td>14238</td>\n",
       "      <td>458</td>\n",
       "      <td>Urgent</td>\n",
       "      <td>2022-10-09</td>\n",
       "      <td>Penicillin</td>\n",
       "      <td>Abnormal</td>\n",
       "    </tr>\n",
       "    <tr>\n",
       "      <th>5</th>\n",
       "      <td>EMILY JOHNSOn</td>\n",
       "      <td>36</td>\n",
       "      <td>36-50</td>\n",
       "      <td>Male</td>\n",
       "      <td>A+</td>\n",
       "      <td>Asthma</td>\n",
       "      <td>2023-12-20</td>\n",
       "      <td>Taylor Newton</td>\n",
       "      <td>Nunez-Humphrey</td>\n",
       "      <td>UnitedHealthcare</td>\n",
       "      <td>48145</td>\n",
       "      <td>389</td>\n",
       "      <td>Urgent</td>\n",
       "      <td>2023-12-24</td>\n",
       "      <td>Ibuprofen</td>\n",
       "      <td>Normal</td>\n",
       "    </tr>\n",
       "  </tbody>\n",
       "</table>\n",
       "</div>"
      ],
      "text/plain": [
       "            Name  Age Age range  Gender Blood Type Medical Condition  \\\n",
       "0  Bobby JacksOn   30     19-35    Male         B-            Cancer   \n",
       "1   LesLie TErRy   62     51-65    Male         A+           Obesity   \n",
       "2    DaNnY sMitH   76       76+  Female         A-           Obesity   \n",
       "3   andrEw waTtS   28     19-35  Female         O+          Diabetes   \n",
       "4  adrIENNE bEll   43     36-50  Female        AB+            Cancer   \n",
       "5  EMILY JOHNSOn   36     36-50    Male         A+            Asthma   \n",
       "\n",
       "  Date of Admission            Doctor                    Hospital  \\\n",
       "0        2024-01-31     Matthew Smith             Sons and Miller   \n",
       "1        2019-08-20   Samantha Davies                     Kim Inc   \n",
       "2        2022-09-22  Tiffany Mitchell                    Cook PLC   \n",
       "3        2020-11-18       Kevin Wells  Hernandez Rogers and Vang,   \n",
       "4        2022-09-19    Kathleen Hanna                 White-White   \n",
       "5        2023-12-20     Taylor Newton              Nunez-Humphrey   \n",
       "\n",
       "  Insurance Provider  Billing Amount  Room Number Admission Type  \\\n",
       "0         Blue Cross           18856          328         Urgent   \n",
       "1           Medicare           33643          265      Emergency   \n",
       "2              Aetna           27955          205      Emergency   \n",
       "3           Medicare           37909          450       Elective   \n",
       "4              Aetna           14238          458         Urgent   \n",
       "5   UnitedHealthcare           48145          389         Urgent   \n",
       "\n",
       "  Discharge Date   Medication  Test Results  \n",
       "0     2024-02-02  Paracetamol        Normal  \n",
       "1     2019-08-26    Ibuprofen  Inconclusive  \n",
       "2     2022-10-07      Aspirin        Normal  \n",
       "3     2020-12-18    Ibuprofen      Abnormal  \n",
       "4     2022-10-09   Penicillin      Abnormal  \n",
       "5     2023-12-24    Ibuprofen        Normal  "
      ]
     },
     "execution_count": 35,
     "metadata": {},
     "output_type": "execute_result"
    }
   ],
   "source": [
    "df.head(6)"
   ]
  },
  {
   "cell_type": "code",
   "execution_count": 36,
   "id": "3f33cd33-cff6-4804-8c4a-e89b69fdff79",
   "metadata": {},
   "outputs": [
    {
     "data": {
      "image/png": "[encoded data removed]",
      "text/plain": [
       "<Figure size 800x500 with 1 Axes>"
      ]
     },
     "metadata": {},
     "output_type": "display_data"
    }
   ],
   "source": [
    "plt.figure(figsize=(8,5))\n",
    "count_df=df.groupby(['Age range','Gender','Medical Condition'],observed=True).size().reset_index(name=\"Count\")\n",
    "sns.barplot(data=count_df,x='Age range',y='Count',hue='Gender')\n",
    "plt.title('Diseases count according to Age range');"
   ]
  },
  {
   "cell_type": "markdown",
   "id": "0960912c-2733-4663-98eb-b6c6bf3746e2",
   "metadata": {},
   "source": [
    "#### Age groups (19-35 ,36-50 , 51-65) have more Diseases ,or the 0-18 age group fewer diseses then other categories."
   ]
  },
  {
   "cell_type": "code",
   "execution_count": null,
   "id": "534bb047-5533-460c-8baa-be841acf8286",
   "metadata": {},
   "outputs": [],
   "source": []
  },
  {
   "cell_type": "markdown",
   "id": "8cac9e0d-be97-462a-a7a4-b4736593aa99",
   "metadata": {},
   "source": [
    "# EDA--> Which Age category have more Disease "
   ]
  },
  {
   "cell_type": "code",
   "execution_count": 39,
   "id": "d48ce7d8-5150-4244-90a6-a1767f30efb5",
   "metadata": {},
   "outputs": [],
   "source": [
    "my=df.groupby(['Medical Condition','Age range'],observed=True).size().reset_index(name='count_diseases')"
   ]
  },
  {
   "cell_type": "code",
   "execution_count": 40,
   "id": "3f44dc3b-d74d-477c-bb79-ba959c05edc1",
   "metadata": {},
   "outputs": [
    {
     "data": {
      "text/plain": [
       "Text(0.5, 1.0, 'types of Diseases')"
      ]
     },
     "execution_count": 40,
     "metadata": {},
     "output_type": "execute_result"
    },
    {
     "data": {
      "image/png": "[encoded data removed]",
      "text/plain": [
       "<Figure size 640x480 with 1 Axes>"
      ]
     },
     "metadata": {},
     "output_type": "display_data"
    }
   ],
   "source": [
    "sns.barplot(data=my,x='Age range',y='count_diseases',hue='Medical Condition')\n",
    "plt.title('types of Diseases')"
   ]
  },
  {
   "cell_type": "markdown",
   "id": "4cef9a22-ff7a-4e21-8df6-e695a1a36744",
   "metadata": {},
   "source": [
    "#### The number of different diseases are same in every age group"
   ]
  },
  {
   "cell_type": "code",
   "execution_count": null,
   "id": "75dd7965-b7bc-4496-9406-c318673af707",
   "metadata": {},
   "outputs": [],
   "source": []
  },
  {
   "cell_type": "markdown",
   "id": "838104a3-2e38-4124-b6c3-6a23c4354b8a",
   "metadata": {},
   "source": [
    "# EDA--> To 10 hospitals that generate more bill"
   ]
  },
  {
   "cell_type": "code",
   "execution_count": 43,
   "id": "8b32b239-362f-4993-b0ab-e33708ec2a42",
   "metadata": {
    "scrolled": true
   },
   "outputs": [
    {
     "data": {
      "text/plain": [
       "39876"
      ]
     },
     "execution_count": 43,
     "metadata": {},
     "output_type": "execute_result"
    }
   ],
   "source": [
    "df['Hospital'].nunique()"
   ]
  },
  {
   "cell_type": "code",
   "execution_count": 44,
   "id": "4224d0b6-1788-4dbf-8a05-c5d5713752a1",
   "metadata": {},
   "outputs": [],
   "source": [
    "earnings=df.groupby(['Hospital','Gender'],observed=True)['Billing Amount'].sum().sort_values(ascending=False).reset_index(name='sum').head(10)"
   ]
  },
  {
   "cell_type": "code",
   "execution_count": 45,
   "id": "d37f7e19-baaa-4071-bdcd-92719e411c4e",
   "metadata": {},
   "outputs": [
    {
     "data": {
      "text/html": [
       "<div>\n",
       "<style scoped>\n",
       "    .dataframe tbody tr th:only-of-type {\n",
       "        vertical-align: middle;\n",
       "    }\n",
       "\n",
       "    .dataframe tbody tr th {\n",
       "        vertical-align: top;\n",
       "    }\n",
       "\n",
       "    .dataframe thead th {\n",
       "        text-align: right;\n",
       "    }\n",
       "</style>\n",
       "<table border=\"1\" class=\"dataframe\">\n",
       "  <thead>\n",
       "    <tr style=\"text-align: right;\">\n",
       "      <th></th>\n",
       "      <th>Hospital</th>\n",
       "      <th>Gender</th>\n",
       "      <th>sum</th>\n",
       "    </tr>\n",
       "  </thead>\n",
       "  <tbody>\n",
       "    <tr>\n",
       "      <th>0</th>\n",
       "      <td>Ltd Smith</td>\n",
       "      <td>Female</td>\n",
       "      <td>831999</td>\n",
       "    </tr>\n",
       "    <tr>\n",
       "      <th>1</th>\n",
       "      <td>Smith PLC</td>\n",
       "      <td>Female</td>\n",
       "      <td>664390</td>\n",
       "    </tr>\n",
       "    <tr>\n",
       "      <th>2</th>\n",
       "      <td>LLC Smith</td>\n",
       "      <td>Male</td>\n",
       "      <td>646124</td>\n",
       "    </tr>\n",
       "    <tr>\n",
       "      <th>3</th>\n",
       "      <td>Johnson PLC</td>\n",
       "      <td>Male</td>\n",
       "      <td>637486</td>\n",
       "    </tr>\n",
       "    <tr>\n",
       "      <th>4</th>\n",
       "      <td>Smith Ltd</td>\n",
       "      <td>Female</td>\n",
       "      <td>539219</td>\n",
       "    </tr>\n",
       "    <tr>\n",
       "      <th>5</th>\n",
       "      <td>PLC Williams</td>\n",
       "      <td>Female</td>\n",
       "      <td>538205</td>\n",
       "    </tr>\n",
       "    <tr>\n",
       "      <th>6</th>\n",
       "      <td>Johnson Inc</td>\n",
       "      <td>Male</td>\n",
       "      <td>523792</td>\n",
       "    </tr>\n",
       "    <tr>\n",
       "      <th>7</th>\n",
       "      <td>Group Smith</td>\n",
       "      <td>Male</td>\n",
       "      <td>520358</td>\n",
       "    </tr>\n",
       "    <tr>\n",
       "      <th>8</th>\n",
       "      <td>Smith Inc</td>\n",
       "      <td>Female</td>\n",
       "      <td>517872</td>\n",
       "    </tr>\n",
       "    <tr>\n",
       "      <th>9</th>\n",
       "      <td>Inc Brown</td>\n",
       "      <td>Female</td>\n",
       "      <td>512041</td>\n",
       "    </tr>\n",
       "  </tbody>\n",
       "</table>\n",
       "</div>"
      ],
      "text/plain": [
       "       Hospital  Gender     sum\n",
       "0     Ltd Smith  Female  831999\n",
       "1     Smith PLC  Female  664390\n",
       "2     LLC Smith    Male  646124\n",
       "3   Johnson PLC    Male  637486\n",
       "4     Smith Ltd  Female  539219\n",
       "5  PLC Williams  Female  538205\n",
       "6   Johnson Inc    Male  523792\n",
       "7   Group Smith    Male  520358\n",
       "8     Smith Inc  Female  517872\n",
       "9     Inc Brown  Female  512041"
      ]
     },
     "execution_count": 45,
     "metadata": {},
     "output_type": "execute_result"
    }
   ],
   "source": [
    "earnings.head(10)"
   ]
  },
  {
   "cell_type": "code",
   "execution_count": 46,
   "id": "b3958919-5af9-4f13-9f6f-3f5fa1338d89",
   "metadata": {},
   "outputs": [
    {
     "data": {
      "text/plain": [
       "Text(0.5, 1.0, 'Revinue of Hospitals')"
      ]
     },
     "execution_count": 46,
     "metadata": {},
     "output_type": "execute_result"
    },
    {
     "data": {
      "image/png": "[encoded data removed]",
      "text/plain": [
       "<Figure size 1200x600 with 1 Axes>"
      ]
     },
     "metadata": {},
     "output_type": "display_data"
    }
   ],
   "source": [
    "plt.figure(figsize=(12,6))\n",
    "sns.barplot(earnings,x='Hospital',y='sum',hue='Gender',width=0.6,);\n",
    "plt.xticks(rotation=60);\n",
    "plt.title('Revinue of Hospitals')"
   ]
  },
  {
   "cell_type": "markdown",
   "id": "0863da2f-4c2c-4e1f-b934-de7c148a81a5",
   "metadata": {},
   "source": [
    "#### The highest bill pay by Female then male in hospiltals, that hosplitals are 'Ltd smith','Smith PLC' etc."
   ]
  },
  {
   "cell_type": "code",
   "execution_count": null,
   "id": "692b4b96-c270-44d2-914f-0b79de9262de",
   "metadata": {},
   "outputs": [],
   "source": []
  },
  {
   "cell_type": "markdown",
   "id": "8f3a0b8c-4806-486e-aa68-67481fbed333",
   "metadata": {},
   "source": [
    "# EDA--> Total bill according to Emergency,urgent,Elective"
   ]
  },
  {
   "cell_type": "code",
   "execution_count": 49,
   "id": "00577bfa-da96-4ed6-bd97-d3e5d4cad840",
   "metadata": {
    "scrolled": true
   },
   "outputs": [
    {
     "data": {
      "text/html": [
       "<div>\n",
       "<style scoped>\n",
       "    .dataframe tbody tr th:only-of-type {\n",
       "        vertical-align: middle;\n",
       "    }\n",
       "\n",
       "    .dataframe tbody tr th {\n",
       "        vertical-align: top;\n",
       "    }\n",
       "\n",
       "    .dataframe thead th {\n",
       "        text-align: right;\n",
       "    }\n",
       "</style>\n",
       "<table border=\"1\" class=\"dataframe\">\n",
       "  <thead>\n",
       "    <tr style=\"text-align: right;\">\n",
       "      <th></th>\n",
       "      <th>Admission Type</th>\n",
       "      <th>Bill</th>\n",
       "    </tr>\n",
       "  </thead>\n",
       "  <tbody>\n",
       "    <tr>\n",
       "      <th>0</th>\n",
       "      <td>Elective</td>\n",
       "      <td>473123917</td>\n",
       "    </tr>\n",
       "    <tr>\n",
       "      <th>1</th>\n",
       "      <td>Urgent</td>\n",
       "      <td>469228564</td>\n",
       "    </tr>\n",
       "    <tr>\n",
       "      <th>2</th>\n",
       "      <td>Emergency</td>\n",
       "      <td>461688511</td>\n",
       "    </tr>\n",
       "  </tbody>\n",
       "</table>\n",
       "</div>"
      ],
      "text/plain": [
       "  Admission Type       Bill\n",
       "0       Elective  473123917\n",
       "1         Urgent  469228564\n",
       "2      Emergency  461688511"
      ]
     },
     "execution_count": 49,
     "metadata": {},
     "output_type": "execute_result"
    }
   ],
   "source": [
    "admi_type_bill=df.groupby(['Admission Type'],observed=True)['Billing Amount'].sum().sort_values(ascending=False).reset_index(name='Bill')\n",
    "admi_type_bill"
   ]
  },
  {
   "cell_type": "code",
   "execution_count": 50,
   "id": "7f1116c5-0779-410f-b538-2b84ce1767c9",
   "metadata": {},
   "outputs": [
    {
     "data": {
      "image/png": "[encoded data removed]",
      "text/plain": [
       "<Figure size 640x480 with 1 Axes>"
      ]
     },
     "metadata": {},
     "output_type": "display_data"
    }
   ],
   "source": [
    "plt.pie(x=admi_type_bill['Bill'],labels=admi_type_bill['Admission Type'],autopct='%.2f%%',explode=[.01,.01,.01]);"
   ]
  },
  {
   "cell_type": "code",
   "execution_count": null,
   "id": "a058093c-776f-49c7-a3ac-1f04a005e455",
   "metadata": {},
   "outputs": [],
   "source": []
  },
  {
   "cell_type": "markdown",
   "id": "4d4500d8-0754-492d-82ed-b2688c74722d",
   "metadata": {},
   "source": [
    "# EDA--> Gender Distribution"
   ]
  },
  {
   "cell_type": "code",
   "execution_count": 52,
   "id": "ebc85c06-d972-481a-902b-df49747076d6",
   "metadata": {},
   "outputs": [],
   "source": [
    "my_temp=df.groupby(['Blood Type','Gender'],observed=True).size().reset_index(name='Distribution')"
   ]
  },
  {
   "cell_type": "code",
   "execution_count": 53,
   "id": "e1d1718b-da66-4b93-89c6-21119b868746",
   "metadata": {},
   "outputs": [
    {
     "data": {
      "text/html": [
       "<div>\n",
       "<style scoped>\n",
       "    .dataframe tbody tr th:only-of-type {\n",
       "        vertical-align: middle;\n",
       "    }\n",
       "\n",
       "    .dataframe tbody tr th {\n",
       "        vertical-align: top;\n",
       "    }\n",
       "\n",
       "    .dataframe thead th {\n",
       "        text-align: right;\n",
       "    }\n",
       "</style>\n",
       "<table border=\"1\" class=\"dataframe\">\n",
       "  <thead>\n",
       "    <tr style=\"text-align: right;\">\n",
       "      <th></th>\n",
       "      <th>Blood Type</th>\n",
       "      <th>Gender</th>\n",
       "      <th>Distribution</th>\n",
       "    </tr>\n",
       "  </thead>\n",
       "  <tbody>\n",
       "    <tr>\n",
       "      <th>0</th>\n",
       "      <td>A+</td>\n",
       "      <td>Female</td>\n",
       "      <td>3534</td>\n",
       "    </tr>\n",
       "    <tr>\n",
       "      <th>1</th>\n",
       "      <td>A+</td>\n",
       "      <td>Male</td>\n",
       "      <td>3362</td>\n",
       "    </tr>\n",
       "    <tr>\n",
       "      <th>2</th>\n",
       "      <td>A-</td>\n",
       "      <td>Female</td>\n",
       "      <td>3418</td>\n",
       "    </tr>\n",
       "    <tr>\n",
       "      <th>3</th>\n",
       "      <td>A-</td>\n",
       "      <td>Male</td>\n",
       "      <td>3480</td>\n",
       "    </tr>\n",
       "    <tr>\n",
       "      <th>4</th>\n",
       "      <td>AB+</td>\n",
       "      <td>Female</td>\n",
       "      <td>3407</td>\n",
       "    </tr>\n",
       "    <tr>\n",
       "      <th>5</th>\n",
       "      <td>AB+</td>\n",
       "      <td>Male</td>\n",
       "      <td>3475</td>\n",
       "    </tr>\n",
       "    <tr>\n",
       "      <th>6</th>\n",
       "      <td>AB-</td>\n",
       "      <td>Female</td>\n",
       "      <td>3428</td>\n",
       "    </tr>\n",
       "    <tr>\n",
       "      <th>7</th>\n",
       "      <td>AB-</td>\n",
       "      <td>Male</td>\n",
       "      <td>3446</td>\n",
       "    </tr>\n",
       "    <tr>\n",
       "      <th>8</th>\n",
       "      <td>B+</td>\n",
       "      <td>Female</td>\n",
       "      <td>3348</td>\n",
       "    </tr>\n",
       "    <tr>\n",
       "      <th>9</th>\n",
       "      <td>B+</td>\n",
       "      <td>Male</td>\n",
       "      <td>3537</td>\n",
       "    </tr>\n",
       "    <tr>\n",
       "      <th>10</th>\n",
       "      <td>B-</td>\n",
       "      <td>Female</td>\n",
       "      <td>3425</td>\n",
       "    </tr>\n",
       "    <tr>\n",
       "      <th>11</th>\n",
       "      <td>B-</td>\n",
       "      <td>Male</td>\n",
       "      <td>3447</td>\n",
       "    </tr>\n",
       "    <tr>\n",
       "      <th>12</th>\n",
       "      <td>O+</td>\n",
       "      <td>Female</td>\n",
       "      <td>3434</td>\n",
       "    </tr>\n",
       "    <tr>\n",
       "      <th>13</th>\n",
       "      <td>O+</td>\n",
       "      <td>Male</td>\n",
       "      <td>3421</td>\n",
       "    </tr>\n",
       "    <tr>\n",
       "      <th>14</th>\n",
       "      <td>O-</td>\n",
       "      <td>Female</td>\n",
       "      <td>3476</td>\n",
       "    </tr>\n",
       "    <tr>\n",
       "      <th>15</th>\n",
       "      <td>O-</td>\n",
       "      <td>Male</td>\n",
       "      <td>3328</td>\n",
       "    </tr>\n",
       "  </tbody>\n",
       "</table>\n",
       "</div>"
      ],
      "text/plain": [
       "   Blood Type  Gender  Distribution\n",
       "0          A+  Female          3534\n",
       "1          A+    Male          3362\n",
       "2          A-  Female          3418\n",
       "3          A-    Male          3480\n",
       "4         AB+  Female          3407\n",
       "5         AB+    Male          3475\n",
       "6         AB-  Female          3428\n",
       "7         AB-    Male          3446\n",
       "8          B+  Female          3348\n",
       "9          B+    Male          3537\n",
       "10         B-  Female          3425\n",
       "11         B-    Male          3447\n",
       "12         O+  Female          3434\n",
       "13         O+    Male          3421\n",
       "14         O-  Female          3476\n",
       "15         O-    Male          3328"
      ]
     },
     "execution_count": 53,
     "metadata": {},
     "output_type": "execute_result"
    }
   ],
   "source": [
    "my_temp"
   ]
  },
  {
   "cell_type": "code",
   "execution_count": 54,
   "id": "9d9fcb56-84c9-4e5e-840a-6355c6d6a661",
   "metadata": {},
   "outputs": [
    {
     "data": {
      "image/png": "[encoded data removed]",
      "text/plain": [
       "<Figure size 640x480 with 1 Axes>"
      ]
     },
     "metadata": {},
     "output_type": "display_data"
    }
   ],
   "source": [
    "sns.barplot(data=my_temp,x='Blood Type',y='Distribution',hue='Gender')\n",
    "plt.title('Distributions');"
   ]
  },
  {
   "cell_type": "markdown",
   "id": "e3d2c695-98a3-4854-8be4-7fcab880f5a9",
   "metadata": {},
   "source": [
    "#### Gender distribution is equal for each Blood Type."
   ]
  },
  {
   "cell_type": "code",
   "execution_count": null,
   "id": "523776c5-c096-4c91-b8ff-893c64bf3064",
   "metadata": {},
   "outputs": [],
   "source": []
  },
  {
   "cell_type": "markdown",
   "id": "27dcf77e-fdd2-4d08-b338-635bf9ad9cc3",
   "metadata": {},
   "source": [
    "# What is the minimum and maximum time to take discharge "
   ]
  },
  {
   "cell_type": "code",
   "execution_count": 57,
   "id": "d20514b3-4585-4dea-a00e-344d4e028e5e",
   "metadata": {},
   "outputs": [],
   "source": [
    "import time"
   ]
  },
  {
   "cell_type": "code",
   "execution_count": 58,
   "id": "b525a229-be09-4d46-a6d7-609580aeaaf6",
   "metadata": {},
   "outputs": [],
   "source": [
    "df['D/W days']=(df['Discharge Date']-df['Date of Admission']).dt.days\n",
    "df['D/W days']=df['D/W days'].sort_values(ascending=True).reset_index(drop=True)"
   ]
  },
  {
   "cell_type": "code",
   "execution_count": 59,
   "id": "de8faba4-14ab-4117-8225-1b346c45f8cd",
   "metadata": {},
   "outputs": [
    {
     "name": "stdout",
     "output_type": "stream",
     "text": [
      "minimum days 1\n",
      "maximum days 30\n"
     ]
    }
   ],
   "source": [
    "print(\"minimum days\",df['D/W days'].min())\n",
    "print('maximum days',df['D/W days'].max())"
   ]
  },
  {
   "cell_type": "code",
   "execution_count": null,
   "id": "9e4f0841-b1e4-4989-86ce-3d7ac6bbc9ec",
   "metadata": {},
   "outputs": [],
   "source": []
  },
  {
   "cell_type": "code",
   "execution_count": null,
   "id": "3c2b4e36-d133-43de-b17a-f22a0b2814ff",
   "metadata": {},
   "outputs": [],
   "source": []
  },
  {
   "cell_type": "markdown",
   "id": "fd4d407b-8202-4655-8b4c-903505e5ab4b",
   "metadata": {},
   "source": [
    "# Conclusion\n",
    "1. Age groups (19-35 ,36-50 , 51-65) have more Diseases ,or the 0-18 age group fewer diseses then other categories.\n",
    "\n",
    "2. The number of different diseases are same in every age group\n",
    "\n",
    "3. Here is almost same numbers of diseases in gender category but Arthritis was most common\n",
    "\n",
    "4. The highest bill pay by Female then male in hospiltals, that hosplitals are 'Ltd smith','Smith PLC' etc.\n",
    "\n",
    "5. Gender distribution is equal for each Blood Type."
   ]
  },
  {
   "cell_type": "code",
   "execution_count": null,
   "id": "c062fd27-4765-44e2-ad4d-35092f9a7a7b",
   "metadata": {},
   "outputs": [],
   "source": []
  },
  {
   "cell_type": "code",
   "execution_count": null,
   "id": "6df89692-9404-4c4e-a1b5-00b25e800b9b",
   "metadata": {},
   "outputs": [],
   "source": []
  }
 ],
 "metadata": {
  "kernelspec": {
   "display_name": "Python [conda env:base] *",
   "language": "python",
   "name": "conda-base-py"
  },
  "language_info": {
   "codemirror_mode": {
    "name": "ipython",
    "version": 3
   },
   "file_extension": ".py",
   "mimetype": "text/x-python",
   "name": "python",
   "nbconvert_exporter": "python",
   "pygments_lexer": "ipython3",
   "version": "3.12.7"
  }
 },
 "nbformat": 4,
 "nbformat_minor": 5
}
